{
 "cells": [
  {
   "cell_type": "code",
   "execution_count": 59,
   "metadata": {},
   "outputs": [],
   "source": [
    "import cv2\n",
    "import numpy as np\n",
    "import matplotlib.pyplot as plt\n",
    "%matplotlib inline\n",
    "import requests\n",
    "import re\n",
    "import time"
   ]
  },
  {
   "cell_type": "code",
   "execution_count": 60,
   "metadata": {},
   "outputs": [],
   "source": [
    "car_classifier = cv2.CascadeClassifier('DATA/haarcascades/haarcascade_car.xml')"
   ]
  },
  {
   "cell_type": "code",
   "execution_count": 61,
   "metadata": {},
   "outputs": [],
   "source": [
    "def detect_car(img):\n",
    "    car_img = img.copy()\n",
    "    car_img_gray = cv2.cvtColor(img, cv2.COLOR_BGR2GRAY)\n",
    "    \n",
    "    car_rects = car_classifier.detectMultiScale(car_img_gray)\n",
    "    \n",
    "    for(x,y,w,h) in car_rects:\n",
    "        cv2.rectangle(car_img,(x,y),(x+w,y+h),(0,0,255),2)\n",
    "    return car_img"
   ]
  },
  {
   "cell_type": "code",
   "execution_count": 62,
   "metadata": {},
   "outputs": [],
   "source": [
    "response = requests.get('https://digilive.rcs-rds.ro/digilivedge/satu_mare_desktop.stream/index.m3u8')\n",
    "match = re.findall(r'segment_(\\d+)\\.ts', response.text)\n",
    "last_segment = match[-1]\n",
    "\n",
    "\n",
    "while True:\n",
    "\n",
    "    cap = cv2.VideoCapture('https://digilive.rcs-rds.ro/digilivedge/satu_mare_desktop.stream/segment_' + last_segment + '.ts')\n",
    "\n",
    "    if cap.isOpened() == False:\n",
    "        print('ERROR FILE NOT FOUND OR WRONG, CODEC USED!')\n",
    "\n",
    "    while cap.isOpened():\n",
    "        ret, frame = cap.read()\n",
    "        if ret == True:\n",
    "            result = detect_car(frame)\n",
    "            cv2.imshow('frame', result)\n",
    "            time.sleep(1/20)\n",
    "            if cv2.waitKey(1) & 0xFF == 27:\n",
    "                break\n",
    "        else:\n",
    "            break\n",
    "    incremented_number = int(last_segment) + 1\n",
    "    last_segment = f\"{incremented_number:0{len(last_segment)}d}\"\n",
    "    if cv2.waitKey(1) & 0xFF == 27:\n",
    "        break\n",
    "\n",
    "cap.release()\n",
    "cv2.destroyAllWindows()                      "
   ]
  },
  {
   "cell_type": "code",
   "execution_count": null,
   "metadata": {},
   "outputs": [],
   "source": []
  },
  {
   "cell_type": "code",
   "execution_count": 2,
   "metadata": {},
   "outputs": [],
   "source": []
  },
  {
   "cell_type": "code",
   "execution_count": 3,
   "metadata": {},
   "outputs": [],
   "source": []
  },
  {
   "cell_type": "code",
   "execution_count": 54,
   "metadata": {},
   "outputs": [],
   "source": []
  },
  {
   "cell_type": "code",
   "execution_count": null,
   "metadata": {},
   "outputs": [],
   "source": []
  }
 ],
 "metadata": {
  "kernelspec": {
   "display_name": "Python 3 (ipykernel)",
   "language": "python",
   "name": "python3"
  },
  "language_info": {
   "codemirror_mode": {
    "name": "ipython",
    "version": 3
   },
   "file_extension": ".py",
   "mimetype": "text/x-python",
   "name": "python",
   "nbconvert_exporter": "python",
   "pygments_lexer": "ipython3",
   "version": "3.12.3"
  }
 },
 "nbformat": 4,
 "nbformat_minor": 4
}
